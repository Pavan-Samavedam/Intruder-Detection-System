{
 "cells": [
  {
   "cell_type": "code",
   "execution_count": null,
   "id": "16e5d6f0",
   "metadata": {
    "vscode": {
     "languageId": "plaintext"
    }
   },
   "outputs": [],
   "source": [
    "import cv2\n",
    "import smtplib\n",
    "from email.mime.multipart import MIMEMultipart\n",
    "from email.mime.text import MIMEText\n",
    "from email.mime.image import MIMEImage\n",
    "\n",
    "# Initialize the camera\n",
    "camera = cv2.VideoCapture(0)  # 0 represents the default camera, change it if necessary\n",
    "\n",
    "# Load a pre-trained face detection model (you may need to install OpenCV's cascades)\n",
    "face_cascade = cv2.CascadeClassifier('haarcascade_frontalface_default.xml')\n",
    "\n",
    "# Email configuration\n",
    "sender_email = \"your_email@gmail.com\"\n",
    "sender_password = \"your_password\"\n",
    "receiver_email = \"receiver_email@gmail.com\"\n",
    "\n",
    "# Function to send an email with the detected intruder's image\n",
    "def send_email(image_path):\n",
    "    msg = MIMEMultipart()\n",
    "    msg['From'] = sender_email\n",
    "    msg['To'] = receiver_email\n",
    "    msg['Subject'] = 'INTRUDER ALERT'\n",
    "\n",
    "    text = MIMEText(\"An intruder was detected.\")\n",
    "    msg.attach(text)\n",
    "\n",
    "    with open(image_path, 'rb') as img_file:\n",
    "        image = MIMEImage(img_file.read())\n",
    "        msg.attach(image)\n",
    "\n",
    "    server = smtplib.SMTP('smtp.gmail.com', 587)\n",
    "    server.starttls()\n",
    "    server.login(sender_email, sender_password)\n",
    "    server.sendmail(sender_email, receiver_email, msg.as_string())\n",
    "    server.quit()\n",
    "\n",
    "while True:\n",
    "    ret, frame = camera.read()\n",
    "\n",
    "    # Convert the frame to grayscale for face detection\n",
    "    gray = cv2.cvtColor(frame, cv2.COLOR_BGR2GRAY)\n",
    "\n",
    "    # Detect faces in the frame\n",
    "    faces = face_cascade.detectMultiScale(gray, scaleFactor=1.1, minNeighbors=5, minSize=(30, 30))\n",
    "\n",
    "    for (x, y, w, h) in faces:\n",
    "        # Draw a rectangle around the detected face\n",
    "        cv2.rectangle(frame, (x, y), (x + w, y + h), (0, 0, 255), 2)\n",
    "\n",
    "        # Save the detected face as an image\n",
    "        face_image = frame[y:y + h, x:x + w]\n",
    "        cv2.imwrite(\"intruder_face.jpg\", face_image)\n",
    "\n",
    "        # Send an email with the intruder's image\n",
    "        send_email(\"intruder_face.jpg\")\n",
    "\n",
    "    # Display the frame\n",
    "    cv2.imshow('Intruder Detection', frame)\n",
    "\n",
    "    if cv2.waitKey(1) & 0xFF == ord('q'):\n",
    "        break\n",
    "\n",
    "# Release the camera and close the OpenCV window\n",
    "camera.release()\n",
    "cv2.destroyAllWindows()\n"
   ]
  }
 ],
 "metadata": {
  "kernelspec": {
   "display_name": "Python 3",
   "language": "python",
   "name": "python3"
  },
  "language_info": {
   "codemirror_mode": {
    "name": "ipython",
    "version": 3
   },
   "file_extension": ".py",
   "mimetype": "text/x-python",
   "name": "python",
   "nbconvert_exporter": "python",
   "pygments_lexer": "ipython3",
   "version": "3.8.10"
  },
  "vscode": {
   "interpreter": {
    "hash": "2a6f7bd957633b44a0395c9ff8ad95640b25fce2112797a80a0189d3930abbb0"
   }
  }
 },
 "nbformat": 4,
 "nbformat_minor": 5
}
